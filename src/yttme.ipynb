{
 "cells": [
  {
   "cell_type": "code",
   "execution_count": 1,
   "metadata": {},
   "outputs": [],
   "source": [
    "%load_ext autoreload\n",
    "%autoreload 2"
   ]
  },
  {
   "cell_type": "code",
   "execution_count": 1,
   "metadata": {},
   "outputs": [
    {
     "name": "stdout",
     "output_type": "stream",
     "text": [
      "Requirement already satisfied: youtokentome in /usr/local/anaconda3/envs/python3/lib/python3.6/site-packages (1.0.6)\n",
      "Requirement already satisfied: Click>=7.0 in /usr/local/anaconda3/envs/python3/lib/python3.6/site-packages (from youtokentome) (7.1.2)\n"
     ]
    }
   ],
   "source": [
    "!pip install youtokentome"
   ]
  },
  {
   "cell_type": "code",
   "execution_count": 3,
   "metadata": {},
   "outputs": [],
   "source": [
    "\n",
    "import youtokentome as yttm\n",
    "from glob import glob"
   ]
  },
  {
   "cell_type": "code",
   "execution_count": 4,
   "metadata": {},
   "outputs": [],
   "source": [
    "fs = [f for f in glob('../data/ru/**/**/*.txt')]"
   ]
  },
  {
   "cell_type": "code",
   "execution_count": 10,
   "metadata": {},
   "outputs": [],
   "source": [
    "txts = []\n",
    "for fn in glob('../data/ru/**/**/*.txt'):\n",
    "    with open(fn) as f:\n",
    "        txt = f.read()\n",
    "        txts.append(txt)\n",
    "\n",
    "traintxt = '\\n'.join(txts)"
   ]
  },
  {
   "cell_type": "code",
   "execution_count": 12,
   "metadata": {},
   "outputs": [],
   "source": [
    "import re\n",
    "words = re.split(r'\\W+', traintxt)"
   ]
  },
  {
   "cell_type": "code",
   "execution_count": 14,
   "metadata": {},
   "outputs": [],
   "source": [
    "lowt = ' '.join(words)\n",
    "lowt = lowt.lower()"
   ]
  },
  {
   "cell_type": "code",
   "execution_count": 17,
   "metadata": {},
   "outputs": [
    {
     "name": "stdout",
     "output_type": "stream",
     "text": [
      "[[7017, 365, 6622, 795]]\n",
      "[['▁привет', '▁как', '▁твои', '▁дела']]\n"
     ]
    }
   ],
   "source": [
    "train_data_path = \"../data/train_data.txt\"\n",
    "model_path = \"../yttme.model\"\n",
    "\n",
    "\n",
    "with open(train_data_path, \"w\") as fout:\n",
    "    fout.write(traintxt)\n",
    "\n",
    "# Generating random text\n",
    "test_text = 'привет как твои дела?'\n",
    "\n",
    "# Training model\n",
    "yttm.BPE.train(data=train_data_path, vocab_size=30000, model=model_path)\n",
    "\n",
    "# Loading model\n",
    "bpe = yttm.BPE(model=model_path)\n",
    "\n",
    "# Two types of tokenization\n",
    "print(bpe.encode([test_text], output_type=yttm.OutputType.ID))\n",
    "print(bpe.encode([test_text], output_type=yttm.OutputType.SUBWORD))"
   ]
  },
  {
   "cell_type": "code",
   "execution_count": 16,
   "metadata": {},
   "outputs": [
    {
     "name": "stdout",
     "output_type": "stream",
     "text": [
      "/Users/ibragim/Documents/punctuation-restoration/src\n"
     ]
    }
   ],
   "source": [
    "!pwd"
   ]
  },
  {
   "cell_type": "code",
   "execution_count": 18,
   "metadata": {},
   "outputs": [],
   "source": [
    "import youtokentome as yttm\n",
    "\n",
    "\n",
    "bpe = yttm.BPE(\"../yttme.model\", n_threads=-1)"
   ]
  },
  {
   "cell_type": "code",
   "execution_count": 19,
   "metadata": {},
   "outputs": [
    {
     "data": {
      "text/plain": [
       "30000"
      ]
     },
     "execution_count": 19,
     "metadata": {},
     "output_type": "execute_result"
    }
   ],
   "source": [
    "bpe.vocab_size()"
   ]
  },
  {
   "cell_type": "code",
   "execution_count": 23,
   "metadata": {},
   "outputs": [
    {
     "name": "stdout",
     "output_type": "stream",
     "text": [
      "['▁привет']\n"
     ]
    }
   ],
   "source": [
    "test_text = 'привет'\n",
    "print(bpe.encode(test_text, output_type=yttm.OutputType.SUBWORD))"
   ]
  },
  {
   "cell_type": "code",
   "execution_count": 5,
   "metadata": {},
   "outputs": [],
   "source": [
    "from prep import Preprocessor\n",
    "from glob import glob\n",
    "\n",
    "pr = Preprocessor()"
   ]
  },
  {
   "cell_type": "code",
   "execution_count": 6,
   "metadata": {},
   "outputs": [],
   "source": [
    "dfs = []\n",
    "for fn in glob('../data/ru/**/**/*.txt'):\n",
    "    df = pr.prep_file(fn)\n",
    "    dfs.append(df)"
   ]
  },
  {
   "cell_type": "code",
   "execution_count": 7,
   "metadata": {},
   "outputs": [],
   "source": [
    "import pandas as pd\n",
    "\n",
    "aldf = pd.concat(dfs).reset_index(drop=True)"
   ]
  },
  {
   "cell_type": "code",
   "execution_count": 8,
   "metadata": {},
   "outputs": [
    {
     "name": "stdout",
     "output_type": "stream",
     "text": [
      "['O', 'COMMA', 'QUESTION', 'PERIOD']\n",
      "Number of Tags  4\n",
      "Tags Map  {'O': 0, 'COMMA': 1, 'QUESTION': 2, 'PERIOD': 3}\n"
     ]
    }
   ],
   "source": [
    "tags=list(set(df['label'].values))\n",
    "print(tags)\n",
    "num_tags=len(tags)\n",
    "print(\"Number of Tags \",num_tags)\n",
    "\n",
    "tags_map={tag:i for i,tag in enumerate(tags)}\n",
    "print(\"Tags Map \",tags_map)"
   ]
  },
  {
   "cell_type": "code",
   "execution_count": 10,
   "metadata": {},
   "outputs": [],
   "source": [
    "reverse_tag_map={v: k for k, v in tags_map.items()}"
   ]
  },
  {
   "cell_type": "code",
   "execution_count": null,
   "metadata": {},
   "outputs": [],
   "source": []
  }
 ],
 "metadata": {
  "kernelspec": {
   "display_name": "Python 3",
   "language": "python",
   "name": "python3"
  },
  "language_info": {
   "codemirror_mode": {
    "name": "ipython",
    "version": 3
   },
   "file_extension": ".py",
   "mimetype": "text/x-python",
   "name": "python",
   "nbconvert_exporter": "python",
   "pygments_lexer": "ipython3",
   "version": "3.6.9"
  }
 },
 "nbformat": 4,
 "nbformat_minor": 4
}
