{
 "cells": [
  {
   "cell_type": "code",
   "execution_count": 1,
   "metadata": {},
   "outputs": [],
   "source": [
    "%load_ext autoreload\n",
    "%autoreload 2"
   ]
  },
  {
   "cell_type": "code",
   "execution_count": 1,
   "metadata": {},
   "outputs": [
    {
     "name": "stdout",
     "output_type": "stream",
     "text": [
      "Requirement already satisfied: youtokentome in /usr/local/anaconda3/envs/python3/lib/python3.6/site-packages (1.0.6)\n",
      "Requirement already satisfied: Click>=7.0 in /usr/local/anaconda3/envs/python3/lib/python3.6/site-packages (from youtokentome) (7.1.2)\n"
     ]
    }
   ],
   "source": [
    "!pip install youtokentome"
   ]
  },
  {
   "cell_type": "code",
   "execution_count": 3,
   "metadata": {},
   "outputs": [],
   "source": [
    "\n",
    "import youtokentome as yttm\n",
    "from glob import glob"
   ]
  },
  {
   "cell_type": "code",
   "execution_count": 4,
   "metadata": {},
   "outputs": [],
   "source": [
    "fs = [f for f in glob('../data/ru/**/**/*.txt')]"
   ]
  },
  {
   "cell_type": "code",
   "execution_count": 47,
   "metadata": {},
   "outputs": [
    {
     "name": "stdout",
     "output_type": "stream",
     "text": [
      "\u001b[1m\u001b[36mTolstoy\u001b[m\u001b[m/\n"
     ]
    }
   ],
   "source": [
    "ls ../data/ru/publicism/"
   ]
  },
  {
   "cell_type": "code",
   "execution_count": 48,
   "metadata": {},
   "outputs": [],
   "source": [
    "txts = []\n",
    "fns = []\n",
    "for fn in glob('../data/ru/**/**/*.txt'):\n",
    "    with open(fn) as f:\n",
    "        txt = f.read()\n",
    "        txts.append(txt)\n",
    "        fns.append(fn)\n",
    "\n",
    "#traintxt = '\\n'.join(txts)"
   ]
  },
  {
   "cell_type": "code",
   "execution_count": 59,
   "metadata": {},
   "outputs": [],
   "source": [
    "import pandas as pd\n",
    "\n",
    "df = pd.DataFrame({'text': txts, 'fn':fns})\n",
    "df['fn'] = df.fn.apply(lambda x: x.split('/')[-2])"
   ]
  },
  {
   "cell_type": "code",
   "execution_count": 60,
   "metadata": {},
   "outputs": [],
   "source": [
    "df['text'] = df.groupby(['fn'])['text'].transform(lambda x: '\\n'.join(x))\n",
    "df = df.drop_duplicates('text')"
   ]
  },
  {
   "cell_type": "code",
   "execution_count": 66,
   "metadata": {},
   "outputs": [],
   "source": [
    "dfs = df.to_dict(orient='records')"
   ]
  },
  {
   "cell_type": "code",
   "execution_count": 71,
   "metadata": {},
   "outputs": [],
   "source": [
    "for d in dfs:\n",
    "    fn = d['fn']\n",
    "    with open(f'../data/ru/{fn}.txt', 'w') as f:\n",
    "        f.write(d['text'])"
   ]
  },
  {
   "cell_type": "code",
   "execution_count": 70,
   "metadata": {},
   "outputs": [
    {
     "name": "stdout",
     "output_type": "stream",
     "text": [
      "/Users/ibragim/Documents/punctuation-restoration/src\n"
     ]
    }
   ],
   "source": [
    "!pwd"
   ]
  },
  {
   "cell_type": "code",
   "execution_count": 12,
   "metadata": {},
   "outputs": [],
   "source": [
    "import re\n",
    "words = re.split(r'\\W+', traintxt)"
   ]
  },
  {
   "cell_type": "code",
   "execution_count": 14,
   "metadata": {},
   "outputs": [],
   "source": [
    "lowt = ' '.join(words)\n",
    "lowt = lowt.lower()"
   ]
  },
  {
   "cell_type": "code",
   "execution_count": 17,
   "metadata": {},
   "outputs": [
    {
     "name": "stdout",
     "output_type": "stream",
     "text": [
      "[[7017, 365, 6622, 795]]\n",
      "[['▁привет', '▁как', '▁твои', '▁дела']]\n"
     ]
    }
   ],
   "source": [
    "train_data_path = \"../data/train_data.txt\"\n",
    "model_path = \"../yttme.model\"\n",
    "\n",
    "\n",
    "with open(train_data_path, \"w\") as fout:\n",
    "    fout.write(traintxt)\n",
    "\n",
    "# Generating random text\n",
    "test_text = 'привет как твои дела?'\n",
    "\n",
    "# Training model\n",
    "yttm.BPE.train(data=train_data_path, vocab_size=30000, model=model_path)\n",
    "\n",
    "# Loading model\n",
    "bpe = yttm.BPE(model=model_path)\n",
    "\n",
    "# Two types of tokenization\n",
    "print(bpe.encode([test_text], output_type=yttm.OutputType.ID))\n",
    "print(bpe.encode([test_text], output_type=yttm.OutputType.SUBWORD))"
   ]
  },
  {
   "cell_type": "code",
   "execution_count": 16,
   "metadata": {},
   "outputs": [
    {
     "name": "stdout",
     "output_type": "stream",
     "text": [
      "/Users/ibragim/Documents/punctuation-restoration/src\n"
     ]
    }
   ],
   "source": [
    "!pwd"
   ]
  },
  {
   "cell_type": "code",
   "execution_count": 18,
   "metadata": {},
   "outputs": [],
   "source": [
    "import youtokentome as yttm\n",
    "\n",
    "\n",
    "bpe = yttm.BPE(\"../yttme.model\", n_threads=-1)"
   ]
  },
  {
   "cell_type": "code",
   "execution_count": 19,
   "metadata": {},
   "outputs": [
    {
     "data": {
      "text/plain": [
       "30000"
      ]
     },
     "execution_count": 19,
     "metadata": {},
     "output_type": "execute_result"
    }
   ],
   "source": [
    "bpe.vocab_size()"
   ]
  },
  {
   "cell_type": "code",
   "execution_count": 23,
   "metadata": {},
   "outputs": [
    {
     "name": "stdout",
     "output_type": "stream",
     "text": [
      "['▁привет']\n"
     ]
    }
   ],
   "source": [
    "test_text = 'привет'\n",
    "print(bpe.encode(test_text, output_type=yttm.OutputType.SUBWORD))"
   ]
  },
  {
   "cell_type": "code",
   "execution_count": 5,
   "metadata": {},
   "outputs": [],
   "source": [
    "from prep import Preprocessor\n",
    "from glob import glob\n",
    "\n",
    "pr = Preprocessor()"
   ]
  },
  {
   "cell_type": "code",
   "execution_count": 6,
   "metadata": {},
   "outputs": [],
   "source": [
    "dfs = []\n",
    "for fn in glob('../data/ru/**/**/*.txt'):\n",
    "    df = pr.prep_file(fn)\n",
    "    dfs.append(df)"
   ]
  },
  {
   "cell_type": "code",
   "execution_count": 7,
   "metadata": {},
   "outputs": [],
   "source": [
    "import pandas as pd\n",
    "\n",
    "aldf = pd.concat(dfs).reset_index(drop=True)"
   ]
  },
  {
   "cell_type": "code",
   "execution_count": 28,
   "metadata": {},
   "outputs": [],
   "source": [
    "!pip install mmh3 -qq"
   ]
  },
  {
   "cell_type": "code",
   "execution_count": 30,
   "metadata": {},
   "outputs": [],
   "source": [
    "from murhash import murmurhash\n",
    "\n",
    "a = murmurhash('привет')"
   ]
  },
  {
   "cell_type": "code",
   "execution_count": 38,
   "metadata": {},
   "outputs": [
    {
     "data": {
      "text/plain": [
       "(256,)"
      ]
     },
     "execution_count": 38,
     "metadata": {},
     "output_type": "execute_result"
    }
   ],
   "source": [
    "import numpy as np\n",
    "\n",
    "np.array(a).shape"
   ]
  },
  {
   "cell_type": "code",
   "execution_count": null,
   "metadata": {},
   "outputs": [],
   "source": []
  }
 ],
 "metadata": {
  "kernelspec": {
   "display_name": "Python 3",
   "language": "python",
   "name": "python3"
  },
  "language_info": {
   "codemirror_mode": {
    "name": "ipython",
    "version": 3
   },
   "file_extension": ".py",
   "mimetype": "text/x-python",
   "name": "python",
   "nbconvert_exporter": "python",
   "pygments_lexer": "ipython3",
   "version": "3.6.9"
  }
 },
 "nbformat": 4,
 "nbformat_minor": 4
}
